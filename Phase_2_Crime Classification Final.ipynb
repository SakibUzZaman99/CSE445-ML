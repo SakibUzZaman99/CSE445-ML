{
 "cells": [
  {
   "cell_type": "markdown",
   "id": "de0221ab",
   "metadata": {},
   "source": [
    "## **Import Dependencies**\n",
    "\n"
   ]
  },
  {
   "metadata": {
    "ExecuteTime": {
     "end_time": "2025-04-27T12:21:43.310785Z",
     "start_time": "2025-04-27T12:21:43.308264Z"
    }
   },
   "cell_type": "code",
   "source": "#!pip install matplotlib numpy pandas scipy seaborn scikit-learn scikit-optimize tpot xgboost yellowbrick",
   "id": "6b4fa90b215ff6dd",
   "outputs": [],
   "execution_count": 1
  },
  {
   "metadata": {
    "ExecuteTime": {
     "end_time": "2025-04-27T12:21:58.352779Z",
     "start_time": "2025-04-27T12:21:43.325575Z"
    }
   },
   "cell_type": "code",
   "source": [
    "\n",
    "\n",
    "import sklearn\n",
    "import xgboost\n",
    "import tpot\n",
    "import pandas as pd\n",
    "import numpy as np\n",
    "import seaborn as sns\n",
    "import matplotlib.pyplot as plt\n",
    "\n"
   ],
   "id": "initial_id",
   "outputs": [],
   "execution_count": 2
  },
  {
   "cell_type": "code",
   "id": "7291d81cc4331f5e",
   "metadata": {
    "ExecuteTime": {
     "end_time": "2025-04-27T12:21:58.436037Z",
     "start_time": "2025-04-27T12:21:58.433496Z"
    }
   },
   "source": [
    "print(tpot.__version__)\n"
   ],
   "outputs": [
    {
     "name": "stdout",
     "output_type": "stream",
     "text": [
      "0.12.2\n"
     ]
    }
   ],
   "execution_count": 3
  },
  {
   "cell_type": "code",
   "id": "d86bf5db14d0c505",
   "metadata": {
    "ExecuteTime": {
     "end_time": "2025-04-27T12:21:59.198208Z",
     "start_time": "2025-04-27T12:21:58.531754Z"
    }
   },
   "source": "df = pd.read_csv(\"C:/Users/sakib/Desktop/updated_crime_dataset.csv\")",
   "outputs": [],
   "execution_count": 4
  },
  {
   "cell_type": "code",
   "id": "7f6540ca1ea95359",
   "metadata": {
    "ExecuteTime": {
     "end_time": "2025-04-27T12:21:59.575362Z",
     "start_time": "2025-04-27T12:21:59.221145Z"
    }
   },
   "source": [
    "from sklearn.model_selection import train_test_split\n",
    "\n",
    "df_a, df_b = train_test_split(df, test_size = 0.05, random_state = 5)\n",
    "df = df_b\n",
    "\n",
    "df"
   ],
   "outputs": [
    {
     "data": {
      "text/plain": [
       "        TIME OCC  AREA NAME  Rpt Dist No  Part 1-2  Crm Cd  Vict Age  \\\n",
       "749362       400         10         1133         1     331        36   \n",
       "116014      1500          7         1961         2     626        18   \n",
       "677612      1843          8         1506         1     440        19   \n",
       "690895       620          3         1677         1     331        42   \n",
       "392360       430          9         1331         1     210        55   \n",
       "...          ...        ...          ...       ...     ...       ...   \n",
       "977652       750         12         1437         2     354        37   \n",
       "596819       624         14         1841         1     330        35   \n",
       "430057      2000          8         1503         1     420        59   \n",
       "432886       300          5          401         2     740        37   \n",
       "857281      1000          1          156         1     320        65   \n",
       "\n",
       "        Vict Descent  Status Desc  LOCATION      LAT       LON  Vict Sex_H  \\\n",
       "749362            17            2      5561  34.1111 -118.2553       False   \n",
       "116014             7            0      3479  34.2392 -118.4698       False   \n",
       "677612             7            2      6213  34.2027 -118.3745       False   \n",
       "690895            17            2      3465  34.2181 -118.3447       False   \n",
       "392360             2            2      6076  34.0223 -118.2719       False   \n",
       "...              ...          ...       ...      ...       ...         ...   \n",
       "977652            12            2      5467  34.0166 -118.4201       False   \n",
       "596819             7            2      6076  33.9356 -118.2848       False   \n",
       "430057             7            2      6116  34.1940 -118.3965       False   \n",
       "432886             7            2      3024  34.0887 -118.2079       False   \n",
       "857281             7            2      6250  34.0449 -118.2458       False   \n",
       "\n",
       "        Vict Sex_M  Vict Sex_X  \n",
       "749362       False       False  \n",
       "116014        True       False  \n",
       "677612        True       False  \n",
       "690895        True       False  \n",
       "392360        True       False  \n",
       "...            ...         ...  \n",
       "977652        True       False  \n",
       "596819       False       False  \n",
       "430057       False       False  \n",
       "432886        True       False  \n",
       "857281        True       False  \n",
       "\n",
       "[50244 rows x 14 columns]"
      ],
      "text/html": [
       "<div>\n",
       "<style scoped>\n",
       "    .dataframe tbody tr th:only-of-type {\n",
       "        vertical-align: middle;\n",
       "    }\n",
       "\n",
       "    .dataframe tbody tr th {\n",
       "        vertical-align: top;\n",
       "    }\n",
       "\n",
       "    .dataframe thead th {\n",
       "        text-align: right;\n",
       "    }\n",
       "</style>\n",
       "<table border=\"1\" class=\"dataframe\">\n",
       "  <thead>\n",
       "    <tr style=\"text-align: right;\">\n",
       "      <th></th>\n",
       "      <th>TIME OCC</th>\n",
       "      <th>AREA NAME</th>\n",
       "      <th>Rpt Dist No</th>\n",
       "      <th>Part 1-2</th>\n",
       "      <th>Crm Cd</th>\n",
       "      <th>Vict Age</th>\n",
       "      <th>Vict Descent</th>\n",
       "      <th>Status Desc</th>\n",
       "      <th>LOCATION</th>\n",
       "      <th>LAT</th>\n",
       "      <th>LON</th>\n",
       "      <th>Vict Sex_H</th>\n",
       "      <th>Vict Sex_M</th>\n",
       "      <th>Vict Sex_X</th>\n",
       "    </tr>\n",
       "  </thead>\n",
       "  <tbody>\n",
       "    <tr>\n",
       "      <th>749362</th>\n",
       "      <td>400</td>\n",
       "      <td>10</td>\n",
       "      <td>1133</td>\n",
       "      <td>1</td>\n",
       "      <td>331</td>\n",
       "      <td>36</td>\n",
       "      <td>17</td>\n",
       "      <td>2</td>\n",
       "      <td>5561</td>\n",
       "      <td>34.1111</td>\n",
       "      <td>-118.2553</td>\n",
       "      <td>False</td>\n",
       "      <td>False</td>\n",
       "      <td>False</td>\n",
       "    </tr>\n",
       "    <tr>\n",
       "      <th>116014</th>\n",
       "      <td>1500</td>\n",
       "      <td>7</td>\n",
       "      <td>1961</td>\n",
       "      <td>2</td>\n",
       "      <td>626</td>\n",
       "      <td>18</td>\n",
       "      <td>7</td>\n",
       "      <td>0</td>\n",
       "      <td>3479</td>\n",
       "      <td>34.2392</td>\n",
       "      <td>-118.4698</td>\n",
       "      <td>False</td>\n",
       "      <td>True</td>\n",
       "      <td>False</td>\n",
       "    </tr>\n",
       "    <tr>\n",
       "      <th>677612</th>\n",
       "      <td>1843</td>\n",
       "      <td>8</td>\n",
       "      <td>1506</td>\n",
       "      <td>1</td>\n",
       "      <td>440</td>\n",
       "      <td>19</td>\n",
       "      <td>7</td>\n",
       "      <td>2</td>\n",
       "      <td>6213</td>\n",
       "      <td>34.2027</td>\n",
       "      <td>-118.3745</td>\n",
       "      <td>False</td>\n",
       "      <td>True</td>\n",
       "      <td>False</td>\n",
       "    </tr>\n",
       "    <tr>\n",
       "      <th>690895</th>\n",
       "      <td>620</td>\n",
       "      <td>3</td>\n",
       "      <td>1677</td>\n",
       "      <td>1</td>\n",
       "      <td>331</td>\n",
       "      <td>42</td>\n",
       "      <td>17</td>\n",
       "      <td>2</td>\n",
       "      <td>3465</td>\n",
       "      <td>34.2181</td>\n",
       "      <td>-118.3447</td>\n",
       "      <td>False</td>\n",
       "      <td>True</td>\n",
       "      <td>False</td>\n",
       "    </tr>\n",
       "    <tr>\n",
       "      <th>392360</th>\n",
       "      <td>430</td>\n",
       "      <td>9</td>\n",
       "      <td>1331</td>\n",
       "      <td>1</td>\n",
       "      <td>210</td>\n",
       "      <td>55</td>\n",
       "      <td>2</td>\n",
       "      <td>2</td>\n",
       "      <td>6076</td>\n",
       "      <td>34.0223</td>\n",
       "      <td>-118.2719</td>\n",
       "      <td>False</td>\n",
       "      <td>True</td>\n",
       "      <td>False</td>\n",
       "    </tr>\n",
       "    <tr>\n",
       "      <th>...</th>\n",
       "      <td>...</td>\n",
       "      <td>...</td>\n",
       "      <td>...</td>\n",
       "      <td>...</td>\n",
       "      <td>...</td>\n",
       "      <td>...</td>\n",
       "      <td>...</td>\n",
       "      <td>...</td>\n",
       "      <td>...</td>\n",
       "      <td>...</td>\n",
       "      <td>...</td>\n",
       "      <td>...</td>\n",
       "      <td>...</td>\n",
       "      <td>...</td>\n",
       "    </tr>\n",
       "    <tr>\n",
       "      <th>977652</th>\n",
       "      <td>750</td>\n",
       "      <td>12</td>\n",
       "      <td>1437</td>\n",
       "      <td>2</td>\n",
       "      <td>354</td>\n",
       "      <td>37</td>\n",
       "      <td>12</td>\n",
       "      <td>2</td>\n",
       "      <td>5467</td>\n",
       "      <td>34.0166</td>\n",
       "      <td>-118.4201</td>\n",
       "      <td>False</td>\n",
       "      <td>True</td>\n",
       "      <td>False</td>\n",
       "    </tr>\n",
       "    <tr>\n",
       "      <th>596819</th>\n",
       "      <td>624</td>\n",
       "      <td>14</td>\n",
       "      <td>1841</td>\n",
       "      <td>1</td>\n",
       "      <td>330</td>\n",
       "      <td>35</td>\n",
       "      <td>7</td>\n",
       "      <td>2</td>\n",
       "      <td>6076</td>\n",
       "      <td>33.9356</td>\n",
       "      <td>-118.2848</td>\n",
       "      <td>False</td>\n",
       "      <td>False</td>\n",
       "      <td>False</td>\n",
       "    </tr>\n",
       "    <tr>\n",
       "      <th>430057</th>\n",
       "      <td>2000</td>\n",
       "      <td>8</td>\n",
       "      <td>1503</td>\n",
       "      <td>1</td>\n",
       "      <td>420</td>\n",
       "      <td>59</td>\n",
       "      <td>7</td>\n",
       "      <td>2</td>\n",
       "      <td>6116</td>\n",
       "      <td>34.1940</td>\n",
       "      <td>-118.3965</td>\n",
       "      <td>False</td>\n",
       "      <td>False</td>\n",
       "      <td>False</td>\n",
       "    </tr>\n",
       "    <tr>\n",
       "      <th>432886</th>\n",
       "      <td>300</td>\n",
       "      <td>5</td>\n",
       "      <td>401</td>\n",
       "      <td>2</td>\n",
       "      <td>740</td>\n",
       "      <td>37</td>\n",
       "      <td>7</td>\n",
       "      <td>2</td>\n",
       "      <td>3024</td>\n",
       "      <td>34.0887</td>\n",
       "      <td>-118.2079</td>\n",
       "      <td>False</td>\n",
       "      <td>True</td>\n",
       "      <td>False</td>\n",
       "    </tr>\n",
       "    <tr>\n",
       "      <th>857281</th>\n",
       "      <td>1000</td>\n",
       "      <td>1</td>\n",
       "      <td>156</td>\n",
       "      <td>1</td>\n",
       "      <td>320</td>\n",
       "      <td>65</td>\n",
       "      <td>7</td>\n",
       "      <td>2</td>\n",
       "      <td>6250</td>\n",
       "      <td>34.0449</td>\n",
       "      <td>-118.2458</td>\n",
       "      <td>False</td>\n",
       "      <td>True</td>\n",
       "      <td>False</td>\n",
       "    </tr>\n",
       "  </tbody>\n",
       "</table>\n",
       "<p>50244 rows × 14 columns</p>\n",
       "</div>"
      ]
     },
     "execution_count": 5,
     "metadata": {},
     "output_type": "execute_result"
    }
   ],
   "execution_count": 5
  },
  {
   "cell_type": "code",
   "id": "efa091237219f548",
   "metadata": {
    "ExecuteTime": {
     "end_time": "2025-04-27T12:21:59.682610Z",
     "start_time": "2025-04-27T12:21:59.671570Z"
    }
   },
   "source": [
    "X = df.drop(columns=[\"Part 1-2\"])\n",
    "y = df[\"Part 1-2\"]\n"
   ],
   "outputs": [],
   "execution_count": 6
  },
  {
   "cell_type": "code",
   "id": "151b328c758feefd",
   "metadata": {
    "ExecuteTime": {
     "end_time": "2025-04-27T12:21:59.862006Z",
     "start_time": "2025-04-27T12:21:59.856579Z"
    }
   },
   "source": [
    "from sklearn.preprocessing import LabelEncoder\n",
    "\n",
    "categorical_columns = X.select_dtypes(include=['object']).columns\n",
    "for column in categorical_columns:\n",
    "    le = LabelEncoder()\n",
    "    X[column] = le.fit_transform(X[column])"
   ],
   "outputs": [],
   "execution_count": 7
  },
  {
   "cell_type": "code",
   "id": "a1512572e98371fe",
   "metadata": {
    "ExecuteTime": {
     "end_time": "2025-04-27T12:22:00.091030Z",
     "start_time": "2025-04-27T12:22:00.085706Z"
    }
   },
   "source": [
    "le_status = LabelEncoder()\n",
    "y = le_status.fit_transform(y)"
   ],
   "outputs": [],
   "execution_count": 8
  },
  {
   "cell_type": "code",
   "id": "4e75b559d1f9c0c9",
   "metadata": {
    "ExecuteTime": {
     "end_time": "2025-04-27T12:22:00.212937Z",
     "start_time": "2025-04-27T12:22:00.173371Z"
    }
   },
   "source": [
    "from sklearn.preprocessing import StandardScaler\n",
    "\n",
    "scaler = StandardScaler()\n",
    "X_scaled = scaler.fit_transform(X)"
   ],
   "outputs": [],
   "execution_count": 9
  },
  {
   "cell_type": "code",
   "id": "7f1047323f797672",
   "metadata": {
    "ExecuteTime": {
     "end_time": "2025-04-27T12:22:00.286944Z",
     "start_time": "2025-04-27T12:22:00.273685Z"
    }
   },
   "source": [
    "X_train, X_test, y_train, y_test = train_test_split(X_scaled, y, test_size=0.2, random_state=42)\n"
   ],
   "outputs": [],
   "execution_count": 10
  },
  {
   "cell_type": "code",
   "id": "7de0d33c92f6c104",
   "metadata": {
    "ExecuteTime": {
     "end_time": "2025-04-27T12:22:00.322861Z",
     "start_time": "2025-04-27T12:22:00.319067Z"
    }
   },
   "source": [
    "non_nan_count = (~np.isnan(y_train)).sum()\n",
    "\n",
    "print(f\"Number of non-NaN values in y_test: {non_nan_count}\")"
   ],
   "outputs": [
    {
     "name": "stdout",
     "output_type": "stream",
     "text": [
      "Number of non-NaN values in y_test: 40195\n"
     ]
    }
   ],
   "execution_count": 11
  },
  {
   "cell_type": "code",
   "id": "8e4f0b36c1da7c9f",
   "metadata": {
    "ExecuteTime": {
     "end_time": "2025-04-27T12:22:00.389213Z",
     "start_time": "2025-04-27T12:22:00.385870Z"
    }
   },
   "source": [
    "solvers = ['lbfgs', 'liblinear', 'newton-cg', 'newton-cholesky', 'sag', 'saga']\n",
    "max_iters = [2000, 5000]"
   ],
   "outputs": [],
   "execution_count": 12
  },
  {
   "cell_type": "code",
   "id": "425f5faaeb51d6dd",
   "metadata": {
    "ExecuteTime": {
     "end_time": "2025-04-27T12:22:00.433433Z",
     "start_time": "2025-04-27T12:22:00.430007Z"
    }
   },
   "source": [
    "results = []"
   ],
   "outputs": [],
   "execution_count": 13
  },
  {
   "cell_type": "markdown",
   "id": "8566700a",
   "metadata": {},
   "source": [
    "#  **📉 LOGISTIC REGRESSION**"
   ]
  },
  {
   "cell_type": "code",
   "id": "ccd6b017960773cf",
   "metadata": {
    "ExecuteTime": {
     "end_time": "2025-04-27T12:22:05.518048Z",
     "start_time": "2025-04-27T12:22:00.481812Z"
    }
   },
   "source": [
    "import numpy as np\n",
    "import pandas as pd\n",
    "from sklearn.linear_model import LogisticRegression\n",
    "from sklearn.metrics import accuracy_score, f1_score, precision_score, recall_score, log_loss, confusion_matrix#\n",
    "results = []\n",
    "\n",
    "unique_classes = np.unique(y)\n",
    "\n",
    "for solver in solvers:\n",
    "    for max_iter in max_iters:\n",
    "        try:\n",
    "            model = LogisticRegression(solver=solver, max_iter=max_iter, random_state=42) #Applying Logistic regression\n",
    "            model.fit(X_train, y_train)\n",
    "\n",
    "            y_pred = model.predict(X_test)\n",
    "            accuracy = accuracy_score(y_test, y_pred)\n",
    "            f1 = f1_score(y_test, y_pred, average='weighted')\n",
    "            precision = precision_score(y_test, y_pred, average='weighted')\n",
    "            recall = recall_score(y_test, y_pred, average='weighted')\n",
    "\n",
    "            try:\n",
    "                y_train_proba = model.predict_proba(X_train)\n",
    "                y_test_proba = model.predict_proba(X_test)\n",
    "                train_loss = log_loss(y_train, y_train_proba)\n",
    "                val_loss = log_loss(y_test, y_test_proba)\n",
    "            except AttributeError:\n",
    "                train_loss, val_loss = None, None\n",
    "\n",
    "            conf_matrix = confusion_matrix(y_test, y_pred)\n",
    "\n",
    "            results.append({\n",
    "                'solver': solver,\n",
    "                'max_iter': max_iter,\n",
    "                'accuracy': accuracy,\n",
    "                'precision': precision,\n",
    "                'recall': recall,\n",
    "                'f1': f1,\n",
    "                'train_loss': train_loss,\n",
    "                'val_loss': val_loss,\n",
    "                'confusion_matrix': conf_matrix\n",
    "            })\n",
    "\n",
    "        except Exception as e:\n",
    "            print(f\"Error with solver={solver}, max_iter={max_iter}: {e}\")\n",
    "\n",
    "# results to DataFrame\n",
    "results_df = pd.DataFrame(results)\n",
    "best_model = results_df.loc[results_df['accuracy'].idxmax()]"
   ],
   "outputs": [],
   "execution_count": 14
  },
  {
   "cell_type": "code",
   "id": "3db3f2010620b9fc",
   "metadata": {
    "ExecuteTime": {
     "end_time": "2025-04-27T12:22:05.566905Z",
     "start_time": "2025-04-27T12:22:05.562552Z"
    }
   },
   "source": [
    "print(\"\\nBest Model Results:\")\n",
    "print(f\"Solver: {best_model['solver']}\")\n",
    "print(f\"Max Iterations: {best_model['max_iter']}\")\n",
    "print(f\"Accuracy: {best_model['accuracy']:.4f}\")\n",
    "print(f\"Precision: {best_model['precision']:.4f}\")\n",
    "print(f\"Recall: {best_model['recall']:.4f}\")\n",
    "print(f\"F1 Score: {best_model['f1']:.4f}\")\n",
    "\n",
    "print(\"\\nConfusion Matrix:\")\n",
    "print(best_model['confusion_matrix'])"
   ],
   "outputs": [
    {
     "name": "stdout",
     "output_type": "stream",
     "text": [
      "\n",
      "Best Model Results:\n",
      "Solver: lbfgs\n",
      "Max Iterations: 2000\n",
      "Accuracy: 0.9031\n",
      "Precision: 0.9039\n",
      "Recall: 0.9031\n",
      "F1 Score: 0.9021\n",
      "\n",
      "Confusion Matrix:\n",
      "[[5773  299]\n",
      " [ 675 3302]]\n"
     ]
    }
   ],
   "execution_count": 15
  },
  {
   "cell_type": "code",
   "id": "dc212e2cd57862d8",
   "metadata": {
    "ExecuteTime": {
     "end_time": "2025-04-27T12:22:05.918139Z",
     "start_time": "2025-04-27T12:22:05.611264Z"
    }
   },
   "source": [
    "plt.figure(figsize=(10, 5))\n",
    "for solver in solvers:\n",
    "    solver_results = results_df[results_df['solver'] == solver]\n",
    "    plt.plot(solver_results['max_iter'], solver_results['train_loss'], marker='o', label=f'{solver} - Train Loss')\n",
    "    plt.plot(solver_results['max_iter'], solver_results['val_loss'], marker='x', linestyle='--', label=f'{solver} - Val Loss')\n",
    "plt.xlabel('Max Iterations')\n",
    "plt.ylabel('Loss')\n",
    "plt.title('Training and Validation Loss vs Max Iterations')\n",
    "plt.legend()\n",
    "plt.grid(True)\n",
    "plt.tight_layout()\n",
    "plt.show()"
   ],
   "outputs": [
    {
     "data": {
      "text/plain": [
       "<Figure size 1000x500 with 1 Axes>"
      ],
      "image/png": "[encoded data removed]"
     },
     "metadata": {},
     "output_type": "display_data"
    }
   ],
   "execution_count": 16
  },
  {
   "cell_type": "code",
   "id": "922a1e73272e07c4",
   "metadata": {
    "ExecuteTime": {
     "end_time": "2025-04-27T12:22:05.974710Z",
     "start_time": "2025-04-27T12:22:05.967123Z"
    }
   },
   "source": [
    "print(results_df['solver'].value_counts())"
   ],
   "outputs": [
    {
     "name": "stdout",
     "output_type": "stream",
     "text": [
      "solver\n",
      "lbfgs              2\n",
      "liblinear          2\n",
      "newton-cg          2\n",
      "newton-cholesky    2\n",
      "sag                2\n",
      "saga               2\n",
      "Name: count, dtype: int64\n"
     ]
    }
   ],
   "execution_count": 17
  },
  {
   "cell_type": "code",
   "id": "476fc62b8e3cd9cd",
   "metadata": {
    "ExecuteTime": {
     "end_time": "2025-04-27T12:22:06.063112Z",
     "start_time": "2025-04-27T12:22:06.059984Z"
    }
   },
   "source": [
    "print(X_train.dtype)  # Check data type of the whole array\n",
    "print(X_train[0])  # Check the data type of a single row\n"
   ],
   "outputs": [
    {
     "name": "stdout",
     "output_type": "stream",
     "text": [
      "float64\n",
      "[-1.26860339 -0.95606142 -0.90549056  0.04449984  0.01521173  1.25549909\n",
      "  0.4410659   0.99385827 -0.16260918 -0.03747633 -0.00997619 -0.95881258\n",
      "  2.41749853]\n"
     ]
    }
   ],
   "execution_count": 18
  },
  {
   "cell_type": "markdown",
   "id": "b16d80ed",
   "metadata": {},
   "source": [
    "### **LOGISTIC REGRESSION HYPERPARAMETER TUNING**"
   ]
  },
  {
   "cell_type": "code",
   "id": "6bae9cc6186a6651",
   "metadata": {
    "ExecuteTime": {
     "end_time": "2025-04-27T12:23:19.096991Z",
     "start_time": "2025-04-27T12:22:06.139937Z"
    }
   },
   "source": [
    "from sklearn.model_selection import GridSearchCV, RandomizedSearchCV\n",
    "from skopt import BayesSearchCV\n",
    "from sklearn.model_selection import RepeatedStratifiedKFold\n",
    "from tpot import TPOTClassifier\n",
    "from scipy.stats import uniform\n",
    "from sklearn.linear_model import LogisticRegression\n",
    "from sklearn.metrics import accuracy_score, f1_score, precision_score, recall_score, log_loss\n",
    "import warnings\n",
    "\n",
    "warnings.filterwarnings('ignore')\n",
    "\n",
    "# Define shared metric function\n",
    "def evaluate_model(model, X_train, y_train, X_test, y_test, label=''):\n",
    "    model.fit(X_train, y_train)\n",
    "    y_pred = model.predict(X_test)\n",
    "    accuracy = accuracy_score(y_test, y_pred)\n",
    "    precision = precision_score(y_test, y_pred, average='weighted')\n",
    "    recall = recall_score(y_test, y_pred, average='weighted')\n",
    "    f1 = f1_score(y_test, y_pred, average='weighted')\n",
    "    try:\n",
    "        train_loss = log_loss(y_train, model.predict_proba(X_train))\n",
    "        val_loss = log_loss(y_test, model.predict_proba(X_test))\n",
    "    except:\n",
    "        train_loss = val_loss = None\n",
    "    return {\n",
    "        'method': label,\n",
    "        'accuracy': accuracy,\n",
    "        'precision': precision,\n",
    "        'recall': recall,\n",
    "        'f1': f1,\n",
    "        'train_loss': train_loss,\n",
    "        'val_loss': val_loss\n",
    "    }\n",
    "\n",
    "# Default Results already obtained\n",
    "comparison_results = [\n",
    "    {\n",
    "        'method': 'Default (Best Solver)',\n",
    "        'accuracy': best_model['accuracy'],\n",
    "        'precision': best_model['precision'],\n",
    "        'recall': best_model['recall'],\n",
    "        'f1': best_model['f1'],\n",
    "        'train_loss': best_model['train_loss'],\n",
    "        'val_loss': best_model['val_loss']\n",
    "    }\n",
    "]\n",
    "\n",
    "# Grid Search\n",
    "param_grid = {\n",
    "    'solver': ['liblinear', 'saga', 'sag', 'newton-cg', 'newton-cholesky'],\n",
    "    'C': [0.01, 0.1, 1, 10],\n",
    "    'max_iter': [100, 500, 1000]\n",
    "}\n",
    "grid_search = GridSearchCV(LogisticRegression(random_state=42), param_grid, cv=3, scoring='accuracy')\n",
    "grid_result = evaluate_model(grid_search, X_train, y_train, X_test, y_test, 'Grid Search')\n",
    "comparison_results.append(grid_result)\n",
    "\n",
    "# Random Search\n",
    "param_dist = {\n",
    "    'solver': ['liblinear', 'saga', 'sag', 'newton-cg', 'newton-cholesky'],\n",
    "    'C': uniform(0.01, 10),\n",
    "    'max_iter': [100, 500, 1000, 2000]\n",
    "}\n",
    "random_search = RandomizedSearchCV(LogisticRegression(random_state=42), param_distributions=param_dist, n_iter=20, cv=3, scoring='accuracy')\n",
    "random_result = evaluate_model(random_search, X_train, y_train, X_test, y_test, 'Random Search')\n",
    "comparison_results.append(random_result)\n",
    "\n",
    "# Bayesian Optimization\n",
    "bayes_search = BayesSearchCV(\n",
    "    LogisticRegression(random_state=42),\n",
    "    {\n",
    "        'solver': ['liblinear', 'saga', 'sag', 'newton-cg', 'newton-cholesky'],\n",
    "        'C': (1e-3, 1e+2, 'log-uniform'),\n",
    "        'max_iter': (100, 2000)\n",
    "    },\n",
    "    n_iter=20,\n",
    "    cv=3,\n",
    "    scoring='accuracy'\n",
    ")\n",
    "bayes_result = evaluate_model(bayes_search, X_train, y_train, X_test, y_test, 'Bayesian Optimization')\n",
    "comparison_results.append(bayes_result)\n",
    "\n",
    "# Genetic Algorithm (TPOT)\n",
    "\n",
    "# tpt = TPOTClassifier(generations=5, population_size=20, verbosity=0, scoring='accuracy', random_state=42, max_time_mins=5)\n",
    "# tpt.fit(X_train, y_train)\n",
    "# tpt_pred = tpt.predict(X_test)\n",
    "# comparison_results.append({\n",
    "#     'method': 'Genetic Algorithm (TPOT)',\n",
    "#     'accuracy': accuracy_score(y_test, tpt_pred),\n",
    "#     'precision': precision_score(y_test, tpt_pred, average='weighted'),\n",
    "#     'recall': recall_score(y_test, tpt_pred, average='weighted'),\n",
    "#     'f1': f1_score(y_test, tpt_pred, average='weighted'),\n",
    "#     'train_loss': None,\n",
    "#     'val_loss': log_loss(y_test, tpt.fitted_pipeline_.predict_proba(X_test))\n",
    "#})\n",
    "\n",
    "\n",
    "# Display comparison\n",
    "comparison_df = pd.DataFrame(comparison_results)\n",
    "print(comparison_df.sort_values(by='accuracy', ascending=False))\n"
   ],
   "outputs": [
    {
     "name": "stdout",
     "output_type": "stream",
     "text": [
      "                  method  accuracy  precision    recall        f1  train_loss  \\\n",
      "3  Bayesian Optimization  0.908747   0.910322  0.908747  0.907679    0.310081   \n",
      "1            Grid Search  0.905264   0.906331  0.905264  0.904272    0.289751   \n",
      "0  Default (Best Solver)  0.903075   0.903885  0.903075  0.902126    0.288968   \n",
      "2          Random Search  0.902975   0.903774  0.902975  0.902028    0.288964   \n",
      "\n",
      "   val_loss  \n",
      "3  0.314226  \n",
      "1  0.295251  \n",
      "0  0.294741  \n",
      "2  0.294725  \n"
     ]
    }
   ],
   "execution_count": 19
  },
  {
   "cell_type": "markdown",
   "id": "f9042c71",
   "metadata": {},
   "source": [
    "## **🌲 RANDOM FOREST**"
   ]
  },
  {
   "cell_type": "code",
   "id": "265076398a3e502e",
   "metadata": {
    "ExecuteTime": {
     "end_time": "2025-04-27T12:23:58.294783Z",
     "start_time": "2025-04-27T12:23:19.264815Z"
    }
   },
   "source": [
    "import numpy as np\n",
    "import pandas as pd\n",
    "from sklearn.linear_model import LogisticRegression\n",
    "from sklearn.metrics import accuracy_score, f1_score, precision_score, recall_score, log_loss, confusion_matrix\n",
    "\n",
    "from sklearn.ensemble import RandomForestClassifier\n",
    "\n",
    "results = []\n",
    "\n",
    "n_estimators_list = [50, 100, 200]\n",
    "max_depth_list = [None, 10, 20]\n",
    "\n",
    "for n_estimators in n_estimators_list:\n",
    "    for max_depth in max_depth_list:\n",
    "        try:\n",
    "            model = RandomForestClassifier(n_estimators=n_estimators, max_depth=max_depth, random_state=42) #Applying Random Forest\n",
    "            model.fit(X_train, y_train)\n",
    "\n",
    "            y_pred = model.predict(X_test)\n",
    "            accuracy = accuracy_score(y_test, y_pred)\n",
    "            f1 = f1_score(y_test, y_pred, average='weighted')\n",
    "            precision = precision_score(y_test, y_pred, average='weighted')\n",
    "            recall = recall_score(y_test, y_pred, average='weighted')\n",
    "\n",
    "            try:\n",
    "                y_train_proba = model.predict_proba(X_train)\n",
    "                y_test_proba = model.predict_proba(X_test)\n",
    "                train_loss = log_loss(y_train, y_train_proba)\n",
    "                val_loss = log_loss(y_test, y_test_proba)\n",
    "            except AttributeError:\n",
    "                train_loss, val_loss = None, None\n",
    "\n",
    "            conf_matrix = confusion_matrix(y_test, y_pred)\n",
    "\n",
    "            results.append({\n",
    "                'n_estimators': n_estimators,\n",
    "                'max_depth': max_depth,\n",
    "                'accuracy': accuracy,\n",
    "                'precision': precision,\n",
    "                'recall': recall,\n",
    "                'f1': f1,\n",
    "                'train_loss': train_loss,\n",
    "                'val_loss': val_loss,\n",
    "                'confusion_matrix': conf_matrix\n",
    "            })\n",
    "\n",
    "        except Exception as e:\n",
    "            print(f\"Error with n_estimators={n_estimators}, max_depth={max_depth}: {e}\")\n",
    "\n",
    "# results to DataFrame\n",
    "results_df = pd.DataFrame(results)\n",
    "best_model = results_df.loc[results_df['accuracy'].idxmax()]\n"
   ],
   "outputs": [],
   "execution_count": 20
  },
  {
   "cell_type": "code",
   "id": "b2d074910b5e0af8",
   "metadata": {
    "ExecuteTime": {
     "end_time": "2025-04-27T12:23:58.341779Z",
     "start_time": "2025-04-27T12:23:58.335674Z"
    }
   },
   "source": [
    "print(\"\\nBest Random Forest Model Results:\")\n",
    "print(f\"Number of Estimators (n_estimators): {best_model['n_estimators']}\")\n",
    "print(f\"Maximum Depth (max_depth): {best_model['max_depth']}\")\n",
    "print(f\"Accuracy: {best_model['accuracy']:.4f}\")\n",
    "print(f\"Precision: {best_model['precision']:.4f}\")\n",
    "print(f\"Recall: {best_model['recall']:.4f}\")\n",
    "print(f\"F1 Score: {best_model['f1']:.4f}\")\n",
    "print(f\"Training Log Loss: {best_model['train_loss']:.4f}\" if best_model['train_loss'] is not None else \"Training Log Loss: N/A\")\n",
    "print(f\"Validation Log Loss: {best_model['val_loss']:.4f}\" if best_model['val_loss'] is not None else \"Validation Log Loss: N/A\")\n",
    "\n",
    "# Print Confusion Matrix\n",
    "print(\"\\nConfusion Matrix:\")\n",
    "print(best_model['confusion_matrix'])"
   ],
   "outputs": [
    {
     "name": "stdout",
     "output_type": "stream",
     "text": [
      "\n",
      "Best Random Forest Model Results:\n",
      "Number of Estimators (n_estimators): 50\n",
      "Maximum Depth (max_depth): nan\n",
      "Accuracy: 0.9923\n",
      "Precision: 0.9923\n",
      "Recall: 0.9923\n",
      "F1 Score: 0.9923\n",
      "Training Log Loss: 0.0145\n",
      "Validation Log Loss: 0.0446\n",
      "\n",
      "Confusion Matrix:\n",
      "[[6027   45]\n",
      " [  32 3945]]\n"
     ]
    }
   ],
   "execution_count": 21
  },
  {
   "cell_type": "markdown",
   "id": "b85f2aa1",
   "metadata": {},
   "source": [
    "### **RANDOM FOREST HYPERPARAMETER TUNING**"
   ]
  },
  {
   "cell_type": "code",
   "id": "3b562409f122677c",
   "metadata": {
    "ExecuteTime": {
     "end_time": "2025-04-27T12:32:38.082044Z",
     "start_time": "2025-04-27T12:23:58.400537Z"
    }
   },
   "source": [
    "from sklearn.model_selection import GridSearchCV, RandomizedSearchCV, RepeatedStratifiedKFold\n",
    "from skopt import BayesSearchCV\n",
    "from tpot import TPOTClassifier\n",
    "from scipy.stats import randint\n",
    "from sklearn.ensemble import RandomForestClassifier\n",
    "from sklearn.metrics import accuracy_score, f1_score, precision_score, recall_score, log_loss\n",
    "import pandas as pd\n",
    "import warnings\n",
    "\n",
    "warnings.filterwarnings('ignore')\n",
    "\n",
    "# Define shared metric function\n",
    "def evaluate_model(model, X_train, y_train, X_test, y_test, label=''):\n",
    "    model.fit(X_train, y_train)\n",
    "    y_pred = model.predict(X_test)\n",
    "    accuracy = accuracy_score(y_test, y_pred)\n",
    "    precision = precision_score(y_test, y_pred, average='weighted')\n",
    "    recall = recall_score(y_test, y_pred, average='weighted')\n",
    "    f1 = f1_score(y_test, y_pred, average='weighted')\n",
    "    try:\n",
    "        train_loss = log_loss(y_train, model.predict_proba(X_train))\n",
    "        val_loss = log_loss(y_test, model.predict_proba(X_test))\n",
    "    except:\n",
    "        train_loss = val_loss = None\n",
    "    return {\n",
    "        'method': label,\n",
    "        'accuracy': accuracy,\n",
    "        'precision': precision,\n",
    "        'recall': recall,\n",
    "        'f1': f1,\n",
    "        'train_loss': train_loss,\n",
    "        'val_loss': val_loss\n",
    "    }\n",
    "\n",
    "comparison_results = [\n",
    "    {\n",
    "        'method': 'Default (Best Params)',\n",
    "        'accuracy': best_model['accuracy'],\n",
    "        'precision': best_model['precision'],\n",
    "        'recall': best_model['recall'],\n",
    "        'f1': best_model['f1'],\n",
    "        'train_loss': best_model['train_loss'],\n",
    "        'val_loss': best_model['val_loss']\n",
    "    }\n",
    "]\n",
    "\n",
    "# Grid Search\n",
    "param_grid = {\n",
    "    'n_estimators': [50, 100, 200],\n",
    "    'max_depth': [None, 10, 20]\n",
    "}\n",
    "grid_search = GridSearchCV(RandomForestClassifier(random_state=42), param_grid, cv=3, scoring='accuracy')\n",
    "grid_result = evaluate_model(grid_search, X_train, y_train, X_test, y_test, 'Grid Search')\n",
    "comparison_results.append(grid_result)\n",
    "\n",
    "# Random Search\n",
    "param_dist = {\n",
    "    'n_estimators': randint(50, 300),\n",
    "    'max_depth': [None, 5, 10, 20, 30]\n",
    "}\n",
    "random_search = RandomizedSearchCV(RandomForestClassifier(random_state=42), param_distributions=param_dist, n_iter=20, cv=3, scoring='accuracy')\n",
    "random_result = evaluate_model(random_search, X_train, y_train, X_test, y_test, 'Random Search')\n",
    "comparison_results.append(random_result)\n",
    "\n",
    "# Bayesian Optimization\n",
    "bayes_search = BayesSearchCV(\n",
    "    RandomForestClassifier(random_state=42),\n",
    "    {\n",
    "        'n_estimators': (50, 300),\n",
    "        'max_depth': (1, 30)\n",
    "    },\n",
    "    n_iter=20,\n",
    "    cv=3,\n",
    "    scoring='accuracy'\n",
    ")\n",
    "bayes_result = evaluate_model(bayes_search, X_train, y_train, X_test, y_test, 'Bayesian Optimization')\n",
    "comparison_results.append(bayes_result)\n",
    "\n",
    "# # Genetic Algorithm (TPOT)\n",
    "# tpt = TPOTClassifier(generations=5, population_size=20, verbosity=0, scoring='accuracy', random_state=42, max_time_mins=5)\n",
    "# tpt.fit(X_train, y_train)\n",
    "# tpt_pred = tpt.predict(X_test)\n",
    "# comparison_results.append({\n",
    "#     'method': 'Genetic Algorithm (TPOT)',\n",
    "#     'accuracy': accuracy_score(y_test, tpt_pred),\n",
    "#     'precision': precision_score(y_test, tpt_pred, average='weighted'),\n",
    "#     'recall': recall_score(y_test, tpt_pred, average='weighted'),\n",
    "#     'f1': f1_score(y_test, tpt_pred, average='weighted'),\n",
    "#     'train_loss': None,\n",
    "#     'val_loss': log_loss(y_test, tpt.fitted_pipeline_.predict_proba(X_test))\n",
    "# })\n",
    "\n",
    "# Display comparison\n",
    "comparison_df = pd.DataFrame(comparison_results)\n",
    "print(comparison_df.sort_values(by='accuracy', ascending=False))\n"
   ],
   "outputs": [
    {
     "name": "stdout",
     "output_type": "stream",
     "text": [
      "                  method  accuracy  precision    recall        f1  train_loss  \\\n",
      "0  Default (Best Params)  0.992338   0.992345  0.992338  0.992340    0.014511   \n",
      "2          Random Search  0.992338   0.992353  0.992338  0.992341    0.014646   \n",
      "3  Bayesian Optimization  0.992238   0.992251  0.992238  0.992241    0.015025   \n",
      "1            Grid Search  0.992139   0.992152  0.992139  0.992142    0.014589   \n",
      "\n",
      "   val_loss  \n",
      "0  0.044600  \n",
      "2  0.045281  \n",
      "3  0.046193  \n",
      "1  0.045220  \n"
     ]
    }
   ],
   "execution_count": 22
  },
  {
   "cell_type": "markdown",
   "id": "3bfd0890",
   "metadata": {},
   "source": [
    "## **⚡ XGBoost**"
   ]
  },
  {
   "cell_type": "code",
   "id": "6e05bff8f8ce95f3",
   "metadata": {
    "ExecuteTime": {
     "end_time": "2025-04-27T12:32:39.729033Z",
     "start_time": "2025-04-27T12:32:38.123026Z"
    }
   },
   "source": [
    "import numpy as np\n",
    "import pandas as pd\n",
    "from sklearn.metrics import accuracy_score, f1_score, precision_score, recall_score, log_loss, confusion_matrix\n",
    "from xgboost import XGBClassifier\n",
    "\n",
    "results = []\n",
    "\n",
    "n_estimators_list = [50, 100, 200]\n",
    "max_depth_list = [3, 6, 10]  \n",
    "\n",
    "for n_estimators in n_estimators_list:\n",
    "    for max_depth in max_depth_list:\n",
    "        try:                                            #Applying XGBoost\n",
    "            model = XGBClassifier(\n",
    "                n_estimators=n_estimators,\n",
    "                max_depth=max_depth,\n",
    "                use_label_encoder=False,\n",
    "                eval_metric='logloss',\n",
    "                random_state=42\n",
    "            )  \n",
    "            model.fit(X_train, y_train)\n",
    "\n",
    "            y_pred = model.predict(X_test)\n",
    "            accuracy = accuracy_score(y_test, y_pred)\n",
    "            f1 = f1_score(y_test, y_pred, average='weighted')\n",
    "            precision = precision_score(y_test, y_pred, average='weighted')\n",
    "            recall = recall_score(y_test, y_pred, average='weighted')\n",
    "\n",
    "            try:\n",
    "                y_train_proba = model.predict_proba(X_train)\n",
    "                y_test_proba = model.predict_proba(X_test)\n",
    "                train_loss = log_loss(y_train, y_train_proba)\n",
    "                val_loss = log_loss(y_test, y_test_proba)\n",
    "            except AttributeError:\n",
    "                train_loss, val_loss = None, None\n",
    "\n",
    "            conf_matrix = confusion_matrix(y_test, y_pred)\n",
    "\n",
    "            results.append({\n",
    "                'n_estimators': n_estimators,\n",
    "                'max_depth': max_depth,\n",
    "                'accuracy': accuracy,\n",
    "                'precision': precision,\n",
    "                'recall': recall,\n",
    "                'f1': f1,\n",
    "                'train_loss': train_loss,\n",
    "                'val_loss': val_loss,\n",
    "                'confusion_matrix': conf_matrix\n",
    "            })\n",
    "\n",
    "        except Exception as e:\n",
    "            print(f\"Error with n_estimators={n_estimators}, max_depth={max_depth}: {e}\")\n",
    "\n",
    "# results to DataFrame\n",
    "results_df = pd.DataFrame(results)\n",
    "best_model = results_df.loc[results_df['accuracy'].idxmax()]\n"
   ],
   "outputs": [],
   "execution_count": 23
  },
  {
   "cell_type": "code",
   "id": "27da078cc6270cbc",
   "metadata": {
    "ExecuteTime": {
     "end_time": "2025-04-27T12:32:39.813631Z",
     "start_time": "2025-04-27T12:32:39.804455Z"
    }
   },
   "source": [
    "print(\"\\nBest XGBoost Model Results:\")\n",
    "print(f\"Number of Estimators (n_estimators): {best_model['n_estimators']}\")\n",
    "print(f\"Maximum Depth (max_depth): {best_model['max_depth']}\")\n",
    "print(f\"Accuracy: {best_model['accuracy']:.4f}\")\n",
    "print(f\"Precision: {best_model['precision']:.4f}\")\n",
    "print(f\"Recall: {best_model['recall']:.4f}\")\n",
    "print(f\"F1 Score: {best_model['f1']:.4f}\")\n",
    "print(f\"Training Log Loss: {best_model['train_loss']:.4f}\" if best_model['train_loss'] is not None else \"Training Log Loss: N/A\")\n",
    "print(f\"Validation Log Loss: {best_model['val_loss']:.4f}\" if best_model['val_loss'] is not None else \"Validation Log Loss: N/A\")\n",
    "\n",
    "# Print Confusion Matrix\n",
    "print(\"\\nConfusion Matrix:\")\n",
    "print(best_model['confusion_matrix'])"
   ],
   "outputs": [
    {
     "name": "stdout",
     "output_type": "stream",
     "text": [
      "\n",
      "Best XGBoost Model Results:\n",
      "Number of Estimators (n_estimators): 50\n",
      "Maximum Depth (max_depth): 3\n",
      "Accuracy: 1.0000\n",
      "Precision: 1.0000\n",
      "Recall: 1.0000\n",
      "F1 Score: 1.0000\n",
      "Training Log Loss: 0.0023\n",
      "Validation Log Loss: 0.0019\n",
      "\n",
      "Confusion Matrix:\n",
      "[[6072    0]\n",
      " [   0 3977]]\n"
     ]
    }
   ],
   "execution_count": 24
  },
  {
   "cell_type": "markdown",
   "id": "5e117c84",
   "metadata": {},
   "source": [
    "### **XGBoost HYPERPARAMETER TUNING**"
   ]
  },
  {
   "cell_type": "code",
   "id": "fa86e9bc6c9bf92d",
   "metadata": {
    "ExecuteTime": {
     "end_time": "2025-04-27T12:33:08.639198Z",
     "start_time": "2025-04-27T12:32:39.885515Z"
    }
   },
   "source": [
    "from xgboost import XGBClassifier\n",
    "from sklearn.model_selection import GridSearchCV, RandomizedSearchCV, RepeatedStratifiedKFold\n",
    "from skopt import BayesSearchCV\n",
    "from tpot import TPOTClassifier\n",
    "from scipy.stats import randint\n",
    "from sklearn.ensemble import RandomForestClassifier\n",
    "from sklearn.metrics import accuracy_score, f1_score, precision_score, recall_score, log_loss\n",
    "import pandas as pd\n",
    "import warnings\n",
    "\n",
    "warnings.filterwarnings('ignore')\n",
    "\n",
    "# Define shared metric function\n",
    "def evaluate_model(model, X_train, y_train, X_test, y_test, label=''):\n",
    "    model.fit(X_train, y_train)\n",
    "    y_pred = model.predict(X_test)\n",
    "    accuracy = accuracy_score(y_test, y_pred)\n",
    "    precision = precision_score(y_test, y_pred, average='weighted')\n",
    "    recall = recall_score(y_test, y_pred, average='weighted')\n",
    "    f1 = f1_score(y_test, y_pred, average='weighted')\n",
    "    try:\n",
    "        train_loss = log_loss(y_train, model.predict_proba(X_train))\n",
    "        val_loss = log_loss(y_test, model.predict_proba(X_test))\n",
    "    except:\n",
    "        train_loss = val_loss = None\n",
    "    return {\n",
    "        'method': label,\n",
    "        'accuracy': accuracy,\n",
    "        'precision': precision,\n",
    "        'recall': recall,\n",
    "        'f1': f1,\n",
    "        'train_loss': train_loss,\n",
    "        'val_loss': val_loss\n",
    "    }\n",
    "\n",
    "# Replace default result if available\n",
    "comparison_results = [\n",
    "    {\n",
    "        'method': 'Default (Best Params)',\n",
    "        'accuracy': best_model['accuracy'],\n",
    "        'precision': best_model['precision'],\n",
    "        'recall': best_model['recall'],\n",
    "        'f1': best_model['f1'],\n",
    "        'train_loss': best_model['train_loss'],\n",
    "        'val_loss': best_model['val_loss']\n",
    "    }\n",
    "]\n",
    "\n",
    "# Grid Search\n",
    "param_grid = {\n",
    "    'n_estimators': [50, 100, 200],\n",
    "    'max_depth': [3, 5, 7],\n",
    "    'learning_rate': [0.01, 0.1, 0.2]\n",
    "}\n",
    "grid_search = GridSearchCV(XGBClassifier(use_label_encoder=False, eval_metric='mlogloss'), param_grid, cv=3, scoring='accuracy')\n",
    "grid_result = evaluate_model(grid_search, X_train, y_train, X_test, y_test, 'XGBoost - Grid Search')\n",
    "comparison_results.append(grid_result)\n",
    "\n",
    "# Random Search\n",
    "param_dist = {\n",
    "    'n_estimators': [50, 100, 200],\n",
    "    'max_depth': [3, 5, 7],\n",
    "    'learning_rate': uniform(0.01, 0.3)\n",
    "}\n",
    "random_search = RandomizedSearchCV(XGBClassifier(use_label_encoder=False, eval_metric='mlogloss'), param_dist, n_iter=20, cv=3, scoring='accuracy')\n",
    "random_result = evaluate_model(random_search, X_train, y_train, X_test, y_test, 'XGBoost - Random Search')\n",
    "comparison_results.append(random_result)\n",
    "\n",
    "# Bayesian Optimization\n",
    "bayes_search = BayesSearchCV(\n",
    "    XGBClassifier(use_label_encoder=False, eval_metric='mlogloss'),\n",
    "    {\n",
    "        'n_estimators': (50, 200),\n",
    "        'max_depth': (3, 10),\n",
    "        'learning_rate': (0.01, 0.3, 'uniform')\n",
    "    },\n",
    "    n_iter=20,\n",
    "    cv=3,\n",
    "    scoring='accuracy'\n",
    ")\n",
    "bayes_result = evaluate_model(bayes_search, X_train, y_train, X_test, y_test, 'XGBoost - Bayesian Optimization')\n",
    "comparison_results.append(bayes_result)\n",
    "\n",
    "# Display comparison\n",
    "comparison_df = pd.DataFrame(comparison_results)\n",
    "print(comparison_df.sort_values(by='accuracy', ascending=False))\n"
   ],
   "outputs": [
    {
     "name": "stdout",
     "output_type": "stream",
     "text": [
      "                            method  accuracy  precision  recall   f1  \\\n",
      "0            Default (Best Params)       1.0        1.0     1.0  1.0   \n",
      "1            XGBoost - Grid Search       1.0        1.0     1.0  1.0   \n",
      "2          XGBoost - Random Search       1.0        1.0     1.0  1.0   \n",
      "3  XGBoost - Bayesian Optimization       1.0        1.0     1.0  1.0   \n",
      "\n",
      "   train_loss  val_loss  \n",
      "0    0.002257  0.001911  \n",
      "1    0.001425  0.001091  \n",
      "2    0.000247  0.000240  \n",
      "3    0.002412  0.002083  \n"
     ]
    }
   ],
   "execution_count": 25
  },
  {
   "cell_type": "markdown",
   "id": "1ab702b3",
   "metadata": {},
   "source": [
    "## **🧠 NEURAL NETWORK**"
   ]
  },
  {
   "cell_type": "code",
   "id": "c958b0719290b607",
   "metadata": {
    "ExecuteTime": {
     "end_time": "2025-04-27T12:34:58.421178Z",
     "start_time": "2025-04-27T12:33:08.703432Z"
    }
   },
   "source": [
    "import numpy as np\n",
    "import pandas as pd\n",
    "from sklearn.neural_network import MLPClassifier\n",
    "from sklearn.metrics import accuracy_score, f1_score, precision_score, recall_score, log_loss, confusion_matrix\n",
    "\n",
    "results = []\n",
    "\n",
    "# Hyperparameter grid\n",
    "hidden_layer_sizes_list = [(50,), (100,), (100, 50)]\n",
    "learning_rate_init_list = [0.001, 0.01]\n",
    "\n",
    "for hidden_layer_sizes in hidden_layer_sizes_list:\n",
    "    for learning_rate_init in learning_rate_init_list:\n",
    "        try:                                                #Applying Neural Network\n",
    "            model = MLPClassifier(\n",
    "                hidden_layer_sizes=hidden_layer_sizes,\n",
    "                learning_rate_init=learning_rate_init,\n",
    "                max_iter=300,\n",
    "                random_state=42\n",
    "            )\n",
    "            model.fit(X_train, y_train)\n",
    "\n",
    "            y_pred = model.predict(X_test)\n",
    "            accuracy = accuracy_score(y_test, y_pred)\n",
    "            f1 = f1_score(y_test, y_pred, average='weighted')\n",
    "            precision = precision_score(y_test, y_pred, average='weighted')\n",
    "            recall = recall_score(y_test, y_pred, average='weighted')\n",
    "\n",
    "            try:\n",
    "                y_train_proba = model.predict_proba(X_train)\n",
    "                y_test_proba = model.predict_proba(X_test)\n",
    "                train_loss = log_loss(y_train, y_train_proba)\n",
    "                val_loss = log_loss(y_test, y_test_proba)\n",
    "            except AttributeError:\n",
    "                train_loss, val_loss = None, None\n",
    "\n",
    "            conf_matrix = confusion_matrix(y_test, y_pred)\n",
    "\n",
    "            results.append({\n",
    "                'hidden_layer_sizes': hidden_layer_sizes,\n",
    "                'learning_rate_init': learning_rate_init,\n",
    "                'accuracy': accuracy,\n",
    "                'precision': precision,\n",
    "                'recall': recall,\n",
    "                'f1': f1,\n",
    "                'train_loss': train_loss,\n",
    "                'val_loss': val_loss,\n",
    "                'confusion_matrix': conf_matrix\n",
    "            })\n",
    "\n",
    "        except Exception as e:\n",
    "            print(f\"Error with hidden_layer_sizes={hidden_layer_sizes}, learning_rate_init={learning_rate_init}: {e}\")\n",
    "\n",
    "# results to DataFrame\n",
    "results_df = pd.DataFrame(results)\n",
    "best_model = results_df.loc[results_df['accuracy'].idxmax()]"
   ],
   "outputs": [],
   "execution_count": 26
  },
  {
   "cell_type": "code",
   "id": "9d35a35df4ac93f5",
   "metadata": {
    "ExecuteTime": {
     "end_time": "2025-04-27T12:34:58.501888Z",
     "start_time": "2025-04-27T12:34:58.495325Z"
    }
   },
   "source": [
    "print(\"\\nBest Neural Network Model Results:\")\n",
    "print(f\"Number of hidden_layer_sizes: {best_model['hidden_layer_sizes']}\")\n",
    "print(f\"learning_rate_init: {best_model['learning_rate_init']}\")\n",
    "print(f\"Accuracy: {best_model['accuracy']:.4f}\")\n",
    "print(f\"Precision: {best_model['precision']:.4f}\")\n",
    "print(f\"Recall: {best_model['recall']:.4f}\")\n",
    "print(f\"F1 Score: {best_model['f1']:.4f}\")\n",
    "print(f\"Training Log Loss: {best_model['train_loss']:.4f}\" if best_model['train_loss'] is not None else \"Training Log Loss: N/A\")\n",
    "print(f\"Validation Log Loss: {best_model['val_loss']:.4f}\" if best_model['val_loss'] is not None else \"Validation Log Loss: N/A\")\n",
    "\n",
    "# Print Confusion Matrix\n",
    "print(\"\\nConfusion Matrix:\")\n",
    "print(best_model['confusion_matrix'])"
   ],
   "outputs": [
    {
     "name": "stdout",
     "output_type": "stream",
     "text": [
      "\n",
      "Best Neural Network Model Results:\n",
      "Number of hidden_layer_sizes: (100, 50)\n",
      "learning_rate_init: 0.001\n",
      "Accuracy: 0.9849\n",
      "Precision: 0.9849\n",
      "Recall: 0.9849\n",
      "F1 Score: 0.9849\n",
      "Training Log Loss: 0.0167\n",
      "Validation Log Loss: 0.0500\n",
      "\n",
      "Confusion Matrix:\n",
      "[[6004   68]\n",
      " [  84 3893]]\n"
     ]
    }
   ],
   "execution_count": 27
  },
  {
   "cell_type": "markdown",
   "id": "0acbe9f9",
   "metadata": {},
   "source": [
    "### 🔄 Custom Wrapper for MLPClassifier to Support Bayesian Optimization\n"
   ]
  },
  {
   "cell_type": "code",
   "id": "71164ae2",
   "metadata": {
    "ExecuteTime": {
     "end_time": "2025-04-27T12:34:58.578057Z",
     "start_time": "2025-04-27T12:34:58.572672Z"
    }
   },
   "source": [
    "from sklearn.base import BaseEstimator, ClassifierMixin\n",
    "\n",
    "class MLPWrapper(BaseEstimator, ClassifierMixin):\n",
    "    def __init__(self, hidden_layer_sizes='(50,)', activation='relu', solver='adam', alpha=0.0001, learning_rate='constant'):\n",
    "        self.hidden_layer_sizes = hidden_layer_sizes\n",
    "        self.activation = activation\n",
    "        self.solver = solver\n",
    "        self.alpha = alpha\n",
    "        self.learning_rate = learning_rate\n",
    "        self.model = None\n",
    "\n",
    "    def fit(self, X, y):\n",
    "        parsed_layers = eval(self.hidden_layer_sizes)  # Convert string to tuple\n",
    "        self.model = MLPClassifier(\n",
    "            hidden_layer_sizes=parsed_layers,\n",
    "            activation=self.activation,\n",
    "            solver=self.solver,\n",
    "            alpha=self.alpha,\n",
    "            learning_rate=self.learning_rate,\n",
    "            max_iter=300,\n",
    "            random_state=42\n",
    "        )\n",
    "        self.model.fit(X, y)\n",
    "        return self\n",
    "\n",
    "    def predict(self, X):\n",
    "        return self.model.predict(X)\n",
    "\n",
    "    def predict_proba(self, X):\n",
    "        return self.model.predict_proba(X)\n",
    "\n",
    "    @property\n",
    "    def classes_(self):\n",
    "        return self.model.classes_\n"
   ],
   "outputs": [],
   "execution_count": 28
  },
  {
   "cell_type": "markdown",
   "id": "2114b358",
   "metadata": {},
   "source": [
    "### **⚙️ Neural Network Hyperparameter Tuning**"
   ]
  },
  {
   "cell_type": "code",
   "id": "8737afc76e7c2746",
   "metadata": {
    "ExecuteTime": {
     "end_time": "2025-04-27T13:34:14.662135Z",
     "start_time": "2025-04-27T12:34:58.635041Z"
    }
   },
   "source": [
    "from sklearn.neural_network import MLPClassifier\n",
    "from sklearn.model_selection import GridSearchCV, RandomizedSearchCV\n",
    "from skopt import BayesSearchCV\n",
    "from sklearn.metrics import accuracy_score, f1_score, precision_score, recall_score, log_loss\n",
    "from scipy.stats import randint, uniform\n",
    "import pandas as pd\n",
    "import warnings\n",
    "from skopt import BayesSearchCV\n",
    "from skopt.space import Real, Integer, Categorical\n",
    "\n",
    "warnings.filterwarnings('ignore')\n",
    "\n",
    "# Define shared evaluation function \n",
    "def evaluate_model(model, X_train, y_train, X_test, y_test, label=''):\n",
    "    model.fit(X_train, y_train)\n",
    "    y_pred = model.predict(X_test)\n",
    "    accuracy = accuracy_score(y_test, y_pred)\n",
    "    precision = precision_score(y_test, y_pred, average='weighted')\n",
    "    recall = recall_score(y_test, y_pred, average='weighted')\n",
    "    f1 = f1_score(y_test, y_pred, average='weighted')\n",
    "    try:\n",
    "        train_loss = log_loss(y_train, model.predict_proba(X_train))\n",
    "        val_loss = log_loss(y_test, model.predict_proba(X_test))\n",
    "    except:\n",
    "        train_loss = val_loss = None\n",
    "    return {\n",
    "        'method': label,\n",
    "        'accuracy': accuracy,\n",
    "        'precision': precision,\n",
    "        'recall': recall,\n",
    "        'f1': f1,\n",
    "        'train_loss': train_loss,\n",
    "        'val_loss': val_loss\n",
    "    }\n",
    "\n",
    "\n",
    "comparison_results = []\n",
    "\n",
    "comparison_results.append({\n",
    "    'method': 'Default (Best Params)',\n",
    "    'accuracy': best_model['accuracy'],\n",
    "    'precision': best_model['precision'],\n",
    "    'recall': best_model['recall'],\n",
    "    'f1': best_model['f1'],\n",
    "    'train_loss': best_model['train_loss'],\n",
    "    'val_loss': best_model['val_loss']\n",
    "})\n",
    "\n",
    "# ---------------- Grid Search ----------------\n",
    "\n",
    "param_grid = {\n",
    "    'hidden_layer_sizes': [(50,), (100,), (50, 50)],\n",
    "    'activation': ['relu', 'tanh'],\n",
    "    'solver': ['adam', 'sgd'],\n",
    "    'alpha': [0.0001, 0.001],\n",
    "    'learning_rate': ['constant', 'adaptive']\n",
    "}\n",
    "\n",
    "grid_search = GridSearchCV(MLPClassifier(max_iter=300), param_grid, cv=3, scoring='accuracy')\n",
    "grid_result = evaluate_model(grid_search, X_train, y_train, X_test, y_test, 'MLP - Grid Search')\n",
    "comparison_results.append(grid_result)\n",
    "\n",
    "# ---------------- Random Search ----------------\n",
    "\n",
    "param_dist = {\n",
    "    'hidden_layer_sizes': [(50,), (100,), (50, 50)],\n",
    "    'activation': ['relu', 'tanh'],\n",
    "    'solver': ['adam', 'sgd'],\n",
    "    'alpha': uniform(0.0001, 0.01),\n",
    "    'learning_rate': ['constant', 'adaptive']\n",
    "}\n",
    "\n",
    "random_search = RandomizedSearchCV(MLPClassifier(max_iter=300), param_dist, n_iter=20, cv=3, scoring='accuracy')\n",
    "random_result = evaluate_model(random_search, X_train, y_train, X_test, y_test, 'MLP - Random Search')\n",
    "comparison_results.append(random_result)\n",
    "\n",
    "# # ---------------- Bayesian Optimization ----------------\n",
    "#\n",
    "# from skopt.space import Categorical, Real\n",
    "#\n",
    "# bayes_search = BayesSearchCV(\n",
    "#     estimator=MLPWrapper(),  # use the wrapper\n",
    "#     search_spaces={\n",
    "#         'hidden_layer_sizes': Categorical(['(50,)', '(100,)', '(50, 50)']),\n",
    "#         'activation': Categorical(['relu', 'tanh']),\n",
    "#         'solver': Categorical(['adam', 'sgd']),\n",
    "#         'alpha': Real(1e-5, 1e-2, prior='log-uniform'),\n",
    "#         'learning_rate': Categorical(['constant', 'adaptive'])\n",
    "#     },\n",
    "#     n_iter=20,\n",
    "#     cv=3,\n",
    "#     scoring='accuracy',\n",
    "#     random_state=42\n",
    "# )\n",
    "#\n",
    "#\n",
    "# bayes_result = evaluate_model(bayes_search, X_train, y_train, X_test, y_test, 'MLP - Bayesian Optimization')\n",
    "# comparison_results.append(bayes_result)\n",
    "\n",
    "# ---------------- Show Results ----------------\n",
    "\n",
    "comparison_df = pd.DataFrame(comparison_results)\n",
    "print(comparison_df.sort_values(by='accuracy', ascending=False))\n"
   ],
   "outputs": [
    {
     "name": "stdout",
     "output_type": "stream",
     "text": [
      "                  method  accuracy  precision    recall        f1  train_loss  \\\n",
      "0  Default (Best Params)  0.984874   0.984869  0.984874  0.984869    0.016689   \n",
      "1      MLP - Grid Search  0.982983   0.983038  0.982983  0.982997    0.031940   \n",
      "2    MLP - Random Search  0.903373   0.904199  0.903373  0.902424         NaN   \n",
      "\n",
      "   val_loss  \n",
      "0  0.050037  \n",
      "1  0.058361  \n",
      "2       NaN  \n"
     ]
    }
   ],
   "execution_count": 29
  },
  {
   "cell_type": "markdown",
   "id": "bde9c470",
   "metadata": {},
   "source": [
    "## **K-Nearest Neighbors (KNN)**"
   ]
  },
  {
   "cell_type": "code",
   "id": "9099ad19747de7ab",
   "metadata": {
    "ExecuteTime": {
     "end_time": "2025-04-27T13:43:01.157195Z",
     "start_time": "2025-04-27T13:34:35.766899Z"
    }
   },
   "source": [
    "import numpy as np\n",
    "import pandas as pd\n",
    "from sklearn.neighbors import KNeighborsClassifier\n",
    "from sklearn.metrics import accuracy_score, f1_score, precision_score, recall_score, log_loss, confusion_matrix\n",
    "\n",
    "\n",
    "results = []\n",
    "\n",
    "unique_classes = np.unique(y)\n",
    "\n",
    "# Define the hyperparameters to tune\n",
    "n_neighbors_list = [3, 5, 7]\n",
    "weights_list = ['distance']\n",
    "algorithms = ['auto']\n",
    "distance_metrics = ['euclidean', 'manhattan', 'chebyshev', 'minkowski']\n",
    "\n",
    "for n_neighbors in n_neighbors_list:\n",
    "    for weights in weights_list:\n",
    "        for algorithm in algorithms:\n",
    "            for metric in distance_metrics:\n",
    "                try:                                    #Applying KNN\n",
    "                    model = KNeighborsClassifier(\n",
    "                        n_neighbors=n_neighbors,\n",
    "                        weights=weights,\n",
    "                        algorithm=algorithm,\n",
    "                        metric=metric\n",
    "                    )\n",
    "                    model.fit(X_train, y_train)\n",
    "\n",
    "                    y_pred = model.predict(X_test)\n",
    "                    accuracy = accuracy_score(y_test, y_pred)\n",
    "                    f1 = f1_score(y_test, y_pred, average='weighted')\n",
    "                    precision = precision_score(y_test, y_pred, average='weighted')\n",
    "                    recall = recall_score(y_test, y_pred, average='weighted')\n",
    "\n",
    "                    try:\n",
    "                        y_train_proba = model.predict_proba(X_train)\n",
    "                        y_test_proba = model.predict_proba(X_test)\n",
    "                        train_loss = log_loss(y_train, y_train_proba)\n",
    "                        val_loss = log_loss(y_test, y_test_proba)\n",
    "                    except AttributeError:\n",
    "                        train_loss, val_loss = None, None\n",
    "\n",
    "                    conf_matrix = confusion_matrix(y_test, y_pred)\n",
    "\n",
    "                    results.append({\n",
    "                        'n_neighbors': n_neighbors,\n",
    "                        'weights': weights,\n",
    "                        'algorithm': algorithm,\n",
    "                        'metric': metric,\n",
    "                        'accuracy': accuracy,\n",
    "                        'precision': precision,\n",
    "                        'recall': recall,\n",
    "                        'f1': f1,\n",
    "                        'train_loss': train_loss,\n",
    "                        'val_loss': val_loss,\n",
    "                        'confusion_matrix': conf_matrix\n",
    "                    })\n",
    "\n",
    "                except Exception as e:\n",
    "                    print(f\"Error with n_neighbors={n_neighbors}, weights={weights}, algorithm={algorithm}, metric={metric}: {e}\")\n",
    "\n",
    "# results to DataFrame\n",
    "results_df = pd.DataFrame(results)\n",
    "best_model = results_df.loc[results_df['accuracy'].idxmax()]\n"
   ],
   "outputs": [
    {
     "name": "stdout",
     "output_type": "stream",
     "text": [
      "ERROR! Session/line number was not unique in database. History logging moved to new session 33\n"
     ]
    }
   ],
   "execution_count": 30
  },
  {
   "cell_type": "code",
   "id": "2fd5fa0cfda55128",
   "metadata": {
    "ExecuteTime": {
     "end_time": "2025-04-27T13:34:16.039976300Z",
     "start_time": "2025-04-22T17:45:33.757706Z"
    }
   },
   "source": [
    "print(\"\\nBest Model Results:\")\n",
    "print(f\"N Neighbors: {best_model['n_neighbors']}\")\n",
    "print(f\"Weights: {best_model['weights']}\")\n",
    "print(f\"Distance Metric: {best_model['metric']}\")\n",
    "print(f\"Accuracy: {best_model['accuracy']:.4f}\")\n",
    "print(f\"Precision: {best_model['precision']:.4f}\")\n",
    "print(f\"Recall: {best_model['recall']:.4f}\")\n",
    "print(f\"F1 Score: {best_model['f1']:.4f}\")\n",
    "\n",
    "# Print Confusion Matrix\n",
    "print(\"\\nConfusion Matrix:\")\n",
    "print(best_model['confusion_matrix'])\n"
   ],
   "outputs": [
    {
     "name": "stdout",
     "output_type": "stream",
     "text": [
      "\n",
      "Best Model Results:\n",
      "N Neighbors: 5\n",
      "Weights: distance\n",
      "Distance Metric: chebyshev\n",
      "Accuracy: 0.8706\n",
      "Precision: 0.8706\n",
      "Recall: 0.8706\n",
      "F1 Score: 0.8706\n",
      "\n",
      "Confusion Matrix:\n",
      "[[110  13]\n",
      " [ 13  65]]\n"
     ]
    }
   ],
   "execution_count": 61
  },
  {
   "cell_type": "markdown",
   "id": "668d01e5",
   "metadata": {},
   "source": [
    "## **KNN Hyperparameter Tuning**"
   ]
  },
  {
   "cell_type": "code",
   "id": "ba4e69e2b78d0052",
   "metadata": {
    "ExecuteTime": {
     "end_time": "2025-04-27T13:34:16.072118Z",
     "start_time": "2025-04-22T17:45:33.820944Z"
    }
   },
   "source": [
    "from sklearn.neighbors import KNeighborsClassifier\n",
    "from sklearn.model_selection import GridSearchCV, RandomizedSearchCV\n",
    "from skopt import BayesSearchCV\n",
    "from sklearn.metrics import accuracy_score, f1_score, precision_score, recall_score, log_loss\n",
    "from scipy.stats import randint\n",
    "from scipy.stats import uniform\n",
    "import pandas as pd\n",
    "import warnings\n",
    "\n",
    "warnings.filterwarnings('ignore')\n",
    "\n",
    "# Define shared evaluation function\n",
    "def evaluate_model(model, X_train, y_train, X_test, y_test, label=''):\n",
    "    model.fit(X_train, y_train)\n",
    "    y_pred = model.predict(X_test)\n",
    "    accuracy = accuracy_score(y_test, y_pred)\n",
    "    precision = precision_score(y_test, y_pred, average='weighted')\n",
    "    recall = recall_score(y_test, y_pred, average='weighted')\n",
    "    f1 = f1_score(y_test, y_pred, average='weighted')\n",
    "    try:\n",
    "        train_loss = log_loss(y_train, model.predict_proba(X_train))\n",
    "        val_loss = log_loss(y_test, model.predict_proba(X_test))\n",
    "    except:\n",
    "        train_loss = val_loss = None\n",
    "    return {\n",
    "        'method': label,\n",
    "        'accuracy': accuracy,\n",
    "        'precision': precision,\n",
    "        'recall': recall,\n",
    "        'f1': f1,\n",
    "        'train_loss': train_loss,\n",
    "        'val_loss': val_loss\n",
    "    }\n",
    "\n",
    "# Collect results\n",
    "comparison_results = []\n",
    "\n",
    "comparison_results.append({\n",
    "    'method': 'Default (Best Params)',\n",
    "    'accuracy': best_model['accuracy'],\n",
    "    'precision': best_model['precision'],\n",
    "    'recall': best_model['recall'],\n",
    "    'f1': best_model['f1'],\n",
    "    'train_loss': best_model['train_loss'],\n",
    "    'val_loss': best_model['val_loss']\n",
    "})\n",
    "\n",
    "# ---------------- Grid Search ----------------\n",
    "param_grid = {\n",
    "    'n_neighbors': [3, 5, 7],\n",
    "    'weights': ['uniform', 'distance'],\n",
    "    'metric': ['euclidean', 'manhattan', 'chebyshev']\n",
    "}\n",
    "\n",
    "grid_search = GridSearchCV(KNeighborsClassifier(), param_grid, cv=3, scoring='accuracy')\n",
    "grid_result = evaluate_model(grid_search, X_train, y_train, X_test, y_test, 'KNN - Grid Search')\n",
    "comparison_results.append(grid_result)\n",
    "\n",
    "# ---------------- Random Search ----------------\n",
    "param_dist = {\n",
    "    'n_neighbors': randint(3, 10),\n",
    "    'weights': ['uniform', 'distance'],\n",
    "    'metric': ['euclidean', 'manhattan', 'chebyshev']\n",
    "}\n",
    "\n",
    "random_search = RandomizedSearchCV(KNeighborsClassifier(), param_dist, n_iter=20, cv=3, scoring='accuracy')\n",
    "random_result = evaluate_model(random_search, X_train, y_train, X_test, y_test, 'KNN - Random Search')\n",
    "comparison_results.append(random_result)\n",
    "\n",
    "# ---------------- Bayesian Optimization ----------------\n",
    "bayes_search = BayesSearchCV(\n",
    "    KNeighborsClassifier(),\n",
    "    {\n",
    "        'n_neighbors': (3, 10),\n",
    "        'weights': ['uniform', 'distance'],\n",
    "        'metric': ['euclidean', 'manhattan', 'chebyshev']\n",
    "    },\n",
    "    n_iter=20,\n",
    "    cv=3,\n",
    "    scoring='accuracy'\n",
    ")\n",
    "bayes_result = evaluate_model(bayes_search, X_train, y_train, X_test, y_test, 'KNN - Bayesian Optimization')\n",
    "comparison_results.append(bayes_result)\n",
    "\n",
    "# ---------------- Show Results ----------------\n",
    "comparison_df = pd.DataFrame(comparison_results)\n",
    "print(comparison_df.sort_values(by='accuracy', ascending=False))\n"
   ],
   "outputs": [
    {
     "name": "stdout",
     "output_type": "stream",
     "text": [
      "                        method  accuracy  precision    recall        f1  \\\n",
      "0        Default (Best Params)  0.870647   0.870647  0.870647  0.870647   \n",
      "3  KNN - Bayesian Optimization  0.855721   0.855419  0.855721  0.855548   \n",
      "1            KNN - Grid Search  0.845771   0.846167  0.845771  0.845948   \n",
      "2          KNN - Random Search  0.845771   0.847162  0.845771  0.846274   \n",
      "\n",
      "     train_loss  val_loss  \n",
      "0  2.220446e-16  1.148954  \n",
      "3  2.220446e-16  0.354617  \n",
      "1  2.742622e-01  0.348147  \n",
      "2  2.220446e-16  0.348271  \n"
     ]
    }
   ],
   "execution_count": 62
  }
 ],
 "metadata": {
  "kernelspec": {
   "display_name": "Python 3",
   "language": "python",
   "name": "python3"
  },
  "language_info": {
   "codemirror_mode": {
    "name": "ipython",
    "version": 3
   },
   "file_extension": ".py",
   "mimetype": "text/x-python",
   "name": "python",
   "nbconvert_exporter": "python",
   "pygments_lexer": "ipython3",
   "version": "3.11.8"
  }
 },
 "nbformat": 4,
 "nbformat_minor": 5
}
